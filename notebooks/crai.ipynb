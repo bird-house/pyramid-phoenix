{
 "cells": [
  {
   "cell_type": "code",
   "execution_count": 1,
   "id": "e5ed56e8",
   "metadata": {},
   "outputs": [],
   "source": [
    "import pandas as pd"
   ]
  },
  {
   "cell_type": "code",
   "execution_count": 5,
   "id": "925fb75a",
   "metadata": {},
   "outputs": [
    {
     "data": {
      "text/html": [
       "<div>\n",
       "<style scoped>\n",
       "    .dataframe tbody tr th:only-of-type {\n",
       "        vertical-align: middle;\n",
       "    }\n",
       "\n",
       "    .dataframe tbody tr th {\n",
       "        vertical-align: top;\n",
       "    }\n",
       "\n",
       "    .dataframe thead th {\n",
       "        text-align: right;\n",
       "    }\n",
       "</style>\n",
       "<table border=\"1\" class=\"dataframe\">\n",
       "  <thead>\n",
       "    <tr style=\"text-align: right;\">\n",
       "      <th></th>\n",
       "      <th>identifier</th>\n",
       "      <th>dataset_name</th>\n",
       "      <th>:dataset_name</th>\n",
       "      <th>_file</th>\n",
       "      <th>_variable_name</th>\n",
       "    </tr>\n",
       "  </thead>\n",
       "  <tbody>\n",
       "    <tr>\n",
       "      <th>0</th>\n",
       "      <td>crai</td>\n",
       "      <td>HadCRUT5</td>\n",
       "      <td>cool</td>\n",
       "      <td>https://www.metoffice.gov.uk/hadobs/hadcrut5/d...</td>\n",
       "      <td>tas_mean</td>\n",
       "    </tr>\n",
       "    <tr>\n",
       "      <th>1</th>\n",
       "      <td>crai</td>\n",
       "      <td>HadCRUT4</td>\n",
       "      <td>hot</td>\n",
       "      <td>https://www.metoffice.gov.uk/hadobs/hadcrut4/d...</td>\n",
       "      <td>temperature_anomaly</td>\n",
       "    </tr>\n",
       "  </tbody>\n",
       "</table>\n",
       "</div>"
      ],
      "text/plain": [
       "  identifier dataset_name :dataset_name  \\\n",
       "0       crai     HadCRUT5          cool   \n",
       "1       crai     HadCRUT4           hot   \n",
       "\n",
       "                                               _file       _variable_name  \n",
       "0  https://www.metoffice.gov.uk/hadobs/hadcrut5/d...             tas_mean  \n",
       "1  https://www.metoffice.gov.uk/hadobs/hadcrut4/d...  temperature_anomaly  "
      ]
     },
     "execution_count": 5,
     "metadata": {},
     "output_type": "execute_result"
    }
   ],
   "source": [
    "df = pd.DataFrame(\n",
    "    {\n",
    "     'identifier': ['crai', 'crai'],\n",
    "     'dataset_name': ['HadCRUT5', 'HadCRUT4'],\n",
    "     ':dataset_name': ['cool', 'hot'],\n",
    "     '_file': [\n",
    "         'https://www.metoffice.gov.uk/hadobs/hadcrut5/data/current/non-infilled/HadCRUT.5.0.1.0.anomalies.ensemble_mean.nc', \n",
    "         'https://www.metoffice.gov.uk/hadobs/hadcrut4/data/current/gridded_fields/HadCRUT.4.6.0.0.median_netcdf.zip',\n",
    "     ],\n",
    "     '_variable_name': ['tas_mean', 'temperature_anomaly']\n",
    "    })\n",
    "df"
   ]
  },
  {
   "cell_type": "code",
   "execution_count": 3,
   "id": "468ef4a4",
   "metadata": {},
   "outputs": [],
   "source": [
    "df.to_csv(\"../phoenix/search/index/duck.csv\", index=False)"
   ]
  },
  {
   "cell_type": "code",
   "execution_count": 4,
   "id": "4a015483",
   "metadata": {},
   "outputs": [
    {
     "data": {
      "text/plain": [
       "['HadCRUT5', 'HadCRUT4']"
      ]
     },
     "execution_count": 4,
     "metadata": {},
     "output_type": "execute_result"
    }
   ],
   "source": [
    "res = df.loc[df.identifier==\"crai\"]\n",
    "list(res.dataset_name)"
   ]
  },
  {
   "cell_type": "code",
   "execution_count": 5,
   "id": "a2bb1a13",
   "metadata": {},
   "outputs": [
    {
     "data": {
      "text/html": [
       "<div>\n",
       "<style scoped>\n",
       "    .dataframe tbody tr th:only-of-type {\n",
       "        vertical-align: middle;\n",
       "    }\n",
       "\n",
       "    .dataframe tbody tr th {\n",
       "        vertical-align: top;\n",
       "    }\n",
       "\n",
       "    .dataframe thead th {\n",
       "        text-align: right;\n",
       "    }\n",
       "</style>\n",
       "<table border=\"1\" class=\"dataframe\">\n",
       "  <thead>\n",
       "    <tr style=\"text-align: right;\">\n",
       "      <th></th>\n",
       "      <th>identifier</th>\n",
       "      <th>dataset_name</th>\n",
       "      <th>file</th>\n",
       "      <th>variable_name</th>\n",
       "    </tr>\n",
       "  </thead>\n",
       "  <tbody>\n",
       "    <tr>\n",
       "      <th>0</th>\n",
       "      <td>crai</td>\n",
       "      <td>HadCRUT5</td>\n",
       "      <td>https://www.metoffice.gov.uk/hadobs/hadcrut5/d...</td>\n",
       "      <td>tas_mean</td>\n",
       "    </tr>\n",
       "  </tbody>\n",
       "</table>\n",
       "</div>"
      ],
      "text/plain": [
       "  identifier dataset_name                                               file  \\\n",
       "0       crai     HadCRUT5  https://www.metoffice.gov.uk/hadobs/hadcrut5/d...   \n",
       "\n",
       "  variable_name  \n",
       "0      tas_mean  "
      ]
     },
     "execution_count": 5,
     "metadata": {},
     "output_type": "execute_result"
    }
   ],
   "source": [
    "res = df.loc[\n",
    "    (df.identifier==\"crai\")\n",
    "    & (df.dataset_name==\"HadCRUT5\")]\n",
    "res"
   ]
  },
  {
   "cell_type": "code",
   "execution_count": 6,
   "id": "f3fb8861",
   "metadata": {},
   "outputs": [
    {
     "data": {
      "text/plain": [
       "['tas_mean']"
      ]
     },
     "execution_count": 6,
     "metadata": {},
     "output_type": "execute_result"
    }
   ],
   "source": [
    "list(res.variable_name)"
   ]
  },
  {
   "cell_type": "code",
   "execution_count": 7,
   "id": "c8fa9f32",
   "metadata": {},
   "outputs": [
    {
     "data": {
      "text/plain": [
       "['https://www.metoffice.gov.uk/hadobs/hadcrut5/data/current/non-infilled/HadCRUT.5.0.1.0.anomalies.ensemble_mean.nc']"
      ]
     },
     "execution_count": 7,
     "metadata": {},
     "output_type": "execute_result"
    }
   ],
   "source": [
    "list(res[\"file\"])"
   ]
  }
 ],
 "metadata": {
  "kernelspec": {
   "display_name": "Python 3",
   "language": "python",
   "name": "python3"
  },
  "language_info": {
   "codemirror_mode": {
    "name": "ipython",
    "version": 3
   },
   "file_extension": ".py",
   "mimetype": "text/x-python",
   "name": "python",
   "nbconvert_exporter": "python",
   "pygments_lexer": "ipython3",
   "version": "3.6.15"
  },
  "nbTranslate": {
   "displayLangs": [
    "*"
   ],
   "hotkey": "alt-t",
   "langInMainMenu": true,
   "sourceLang": "en",
   "targetLang": "fr",
   "useGoogleTranslate": true
  }
 },
 "nbformat": 4,
 "nbformat_minor": 5
}
